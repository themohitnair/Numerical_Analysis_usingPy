{
 "cells": [
  {
   "cell_type": "code",
   "execution_count": 1,
   "metadata": {},
   "outputs": [],
   "source": [
    "import pandas as pd"
   ]
  },
  {
   "cell_type": "code",
   "execution_count": 2,
   "metadata": {},
   "outputs": [
    {
     "name": "stdout",
     "output_type": "stream",
     "text": [
      "raspberries     44.5\n",
      "apples          65.5\n",
      "cherries        69.5\n",
      "oranges         70.0\n",
      "grapes         101.0\n",
      "dtype: float64\n"
     ]
    }
   ],
   "source": [
    "fruits = ['raspberries','apples','cherries','oranges','grapes']\n",
    "prices = [44.50,65.50,69.50,70.00,101.00]\n",
    "fruit_shop = pd.Series(prices, index=fruits)\n",
    "print(fruit_shop)"
   ]
  },
  {
   "cell_type": "code",
   "execution_count": 4,
   "metadata": {},
   "outputs": [
    {
     "data": {
      "text/plain": [
       "44.5"
      ]
     },
     "execution_count": 4,
     "metadata": {},
     "output_type": "execute_result"
    }
   ],
   "source": [
    "fruit_shop['raspberries']"
   ]
  },
  {
   "cell_type": "code",
   "execution_count": 7,
   "metadata": {},
   "outputs": [
    {
     "data": {
      "text/plain": [
       "apples         65.5\n",
       "raspberries    44.5\n",
       "oranges        70.0\n",
       "dtype: float64"
      ]
     },
     "execution_count": 7,
     "metadata": {},
     "output_type": "execute_result"
    }
   ],
   "source": [
    "fruit_shop[['apples','raspberries','oranges']]"
   ]
  },
  {
   "cell_type": "code",
   "execution_count": 8,
   "metadata": {},
   "outputs": [
    {
     "data": {
      "text/plain": [
       "array([ 44.5,  65.5,  69.5,  70. , 101. ])"
      ]
     },
     "execution_count": 8,
     "metadata": {},
     "output_type": "execute_result"
    }
   ],
   "source": [
    "fruit_shop.values"
   ]
  },
  {
   "cell_type": "code",
   "execution_count": 9,
   "metadata": {},
   "outputs": [
    {
     "data": {
      "text/plain": [
       "Index(['raspberries', 'apples', 'cherries', 'oranges', 'grapes'], dtype='object')"
      ]
     },
     "execution_count": 9,
     "metadata": {},
     "output_type": "execute_result"
    }
   ],
   "source": [
    "fruit_shop.index"
   ]
  },
  {
   "cell_type": "code",
   "execution_count": 12,
   "metadata": {},
   "outputs": [
    {
     "data": {
      "text/plain": [
       "raspberries     66.75\n",
       "apples          98.25\n",
       "cherries       104.25\n",
       "oranges        105.00\n",
       "grapes         151.50\n",
       "dtype: float64"
      ]
     },
     "execution_count": 12,
     "metadata": {},
     "output_type": "execute_result"
    }
   ],
   "source": [
    "def rise(price):\n",
    "    price += 0.5*price\n",
    "    return price\n",
    "\n",
    "fruit_shop.apply(rise)"
   ]
  },
  {
   "cell_type": "code",
   "execution_count": 14,
   "metadata": {},
   "outputs": [],
   "source": [
    "cities = {\"London\":8615246,\n",
    "\"Berlin\":3562166,\n",
    "\"Madrid\":3165235,\n",
    "\"Rome\":2874038,\n",
    "\"Paris\":2273305,\n",
    "\"Vienna\":1805681,\n",
    "\"Bucharest\":1803425,\n",
    "\"Hamburg\":1760433,\n",
    "\"Budapest\":1754000,\n",
    "\"Warsaw\":1740119,\n",
    "\"Barcelona\": 1602386,\n",
    "\"Munich\":1493900,\n",
    "\"Milan\":1350680}\n",
    "\n",
    "citys = pd.Series(cities)"
   ]
  },
  {
   "cell_type": "code",
   "execution_count": 19,
   "metadata": {},
   "outputs": [
    {
     "name": "stdout",
     "output_type": "stream",
     "text": [
      "Zurich          NaN\n",
      "Oslo            NaN\n",
      "Munich    1493900.0\n",
      "Milan     1350680.0\n",
      "dtype: float64\n"
     ]
    }
   ],
   "source": [
    "micity = pd.Series(citys,index=['Zurich','Oslo','Munich','Milan'])\n",
    "print(micity)"
   ]
  },
  {
   "cell_type": "code",
   "execution_count": 21,
   "metadata": {},
   "outputs": [
    {
     "data": {
      "text/plain": [
       "Zurich     True\n",
       "Oslo       True\n",
       "Munich    False\n",
       "Milan     False\n",
       "dtype: bool"
      ]
     },
     "execution_count": 21,
     "metadata": {},
     "output_type": "execute_result"
    }
   ],
   "source": [
    "micity.isnull()"
   ]
  },
  {
   "cell_type": "code",
   "execution_count": 25,
   "metadata": {},
   "outputs": [
    {
     "data": {
      "text/plain": [
       "Zurich    False\n",
       "Oslo      False\n",
       "Munich     True\n",
       "Milan      True\n",
       "dtype: bool"
      ]
     },
     "execution_count": 25,
     "metadata": {},
     "output_type": "execute_result"
    }
   ],
   "source": [
    "micity.notnull()"
   ]
  },
  {
   "cell_type": "code",
   "execution_count": 26,
   "metadata": {},
   "outputs": [
    {
     "data": {
      "text/plain": [
       "Munich    1493900.0\n",
       "Milan     1350680.0\n",
       "dtype: float64"
      ]
     },
     "execution_count": 26,
     "metadata": {},
     "output_type": "execute_result"
    }
   ],
   "source": [
    "micity.dropna()"
   ]
  },
  {
   "cell_type": "code",
   "execution_count": 27,
   "metadata": {},
   "outputs": [
    {
     "data": {
      "text/plain": [
       "Zurich      20000.0\n",
       "Oslo       990000.0\n",
       "Munich    1493900.0\n",
       "Milan     1350680.0\n",
       "dtype: float64"
      ]
     },
     "execution_count": 27,
     "metadata": {},
     "output_type": "execute_result"
    }
   ],
   "source": [
    "micity.fillna({'Zurich':20000,'Oslo':990000})"
   ]
  },
  {
   "cell_type": "code",
   "execution_count": null,
   "metadata": {},
   "outputs": [],
   "source": []
  }
 ],
 "metadata": {
  "kernelspec": {
   "display_name": "Python 3",
   "language": "python",
   "name": "python3"
  },
  "language_info": {
   "codemirror_mode": {
    "name": "ipython",
    "version": 3
   },
   "file_extension": ".py",
   "mimetype": "text/x-python",
   "name": "python",
   "nbconvert_exporter": "python",
   "pygments_lexer": "ipython3",
   "version": "3.10.13"
  }
 },
 "nbformat": 4,
 "nbformat_minor": 2
}
